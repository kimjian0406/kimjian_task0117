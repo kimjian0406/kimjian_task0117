{
  "nbformat": 4,
  "nbformat_minor": 0,
  "metadata": {
    "colab": {
      "provenance": [],
      "authorship_tag": "ABX9TyNgZ7hrYns3b2bAwX1rg1mB"
    },
    "kernelspec": {
      "name": "python3",
      "display_name": "Python 3"
    },
    "language_info": {
      "name": "python"
    }
  },
  "cells": [
    {
      "cell_type": "markdown",
      "source": [
        "파이썬 리스트"
      ],
      "metadata": {
        "id": "HP3JHh8tvNPV"
      }
    },
    {
      "cell_type": "code",
      "source": [
        "quiz = [\n",
        "    {\n",
        "        \"question\": \"1 + 1의 결과는?\",\n",
        "        \"choices\": [\"1\", \"2\", \"3\", \"4\"],\n",
        "        \"answer\": \"2\"\n",
        "    },\n",
        "    {\n",
        "        \"question\": \"파이썬에서 딕셔너리는 무엇으로 감싸져 있나요?\",\n",
        "        \"choices\": [\"[]\", \"()\", \"{}\", \"<>\"],\n",
        "        \"answer\": \"{}\"\n",
        "    },\n",
        "    {\n",
        "        \"question\": \"태양계에서 가장 뜨거운 행성은?\",\n",
        "        \"choices\": [\"수성\", \"금성\", \"화성\", \"지구\"],\n",
        "        \"answer\": \"금성\"\n",
        "    },\n",
        "    {\n",
        "        \"question\": \"다음 중 프로그래밍 언어가 아닌 것은?\",\n",
        "        \"choices\": [\"Python\", \"HTML\", \"Java\", \"C++\"],\n",
        "        \"answer\": \"HTML\"\n",
        "    },\n",
        "    {\n",
        "        \"question\": \"CPU는 무엇의 약자인가요?\",\n",
        "        \"choices\": [\n",
        "            \"Central Processing Unit\",\n",
        "            \"Central Program Unit\",\n",
        "            \"Control Processing Unit\",\n",
        "            \"Core Processing Unit\"\n",
        "        ],\n",
        "        \"answer\": \"Central Processing Unit\"\n",
        "    }\n",
        "]\n"
      ],
      "metadata": {
        "id": "w3Sry15q7SRx"
      },
      "execution_count": 1,
      "outputs": []
    },
    {
      "cell_type": "markdown",
      "source": [
        "파이썬 반복문"
      ],
      "metadata": {
        "id": "8U1TXxWI7g_r"
      }
    },
    {
      "cell_type": "code",
      "source": [
        "quiz = [\n",
        "    {\n",
        "        \"question\": \"1 + 1의 결과는?\",\n",
        "        \"choices\": [\"1\", \"2\", \"3\", \"4\"],\n",
        "        \"answer\": \"2\"\n",
        "    },\n",
        "    {\n",
        "        \"question\": \"파이썬에서 딕셔너리는 무엇으로 감싸져 있나요?\",\n",
        "        \"choices\": [\"[]\", \"()\", \"{}\", \"<>\"],\n",
        "        \"answer\": \"{}\"\n",
        "    },\n",
        "    {\n",
        "        \"question\": \"태양계에서 가장 뜨거운 행성은?\",\n",
        "        \"choices\": [\"수성\", \"금성\", \"화성\", \"지구\"],\n",
        "        \"answer\": \"금성\"\n",
        "    },\n",
        "    {\n",
        "        \"question\": \"다음 중 프로그래밍 언어가 아닌 것은?\",\n",
        "        \"choices\": [\"Python\", \"HTML\", \"Java\", \"C++\"],\n",
        "        \"answer\": \"HTML\"\n",
        "    },\n",
        "    {\n",
        "        \"question\": \"CPU는 무엇의 약자인가요?\",\n",
        "        \"choices\": [\n",
        "            \"Central Processing Unit\",\n",
        "            \"Central Program Unit\",\n",
        "            \"Control Processing Unit\",\n",
        "            \"Core Processing Unit\"\n",
        "        ],\n",
        "        \"answer\": \"Central Processing Unit\"\n",
        "    }\n",
        "]\n",
        "\n",
        "# 퀴즈 반복문\n",
        "score = 0  # 정답 점수 초기화\n",
        "print(\"퀴즈를 시작합니다!\\n\")\n",
        "\n",
        "for i, q in enumerate(quiz, start=1):\n",
        "    print(f\"Q{i}. {q['question']}\")  # 질문 출력\n",
        "    for idx, choice in enumerate(q['choices'], start=1):\n",
        "        print(f\"   {idx}. {choice}\")  # 선택지 출력\n",
        "\n",
        "    # 사용자 입력 받기\n",
        "    user_answer = input(\"정답 번호를 입력하세요: \")\n",
        "\n",
        "    # 입력된 번호와 정답 확인\n",
        "    if user_answer.isdigit() and 1 <= int(user_answer) <= len(q['choices']):\n",
        "        selected_choice = q['choices'][int(user_answer) - 1]\n",
        "        if selected_choice == q['answer']:\n",
        "            print(\"정답입니다! 🎉\\n\")\n",
        "            score += 1\n",
        "        else:\n",
        "            print(f\"틀렸습니다. 정답은 '{q['answer']}'입니다.\\n\")\n",
        "    else:\n",
        "        print(\"유효하지 않은 입력입니다. 정답으로 처리되지 않습니다.\\n\")\n",
        "\n",
        "# 최종 점수 출력\n",
        "print(f\"퀴즈 종료! 당신의 점수는 {score}/{len(quiz)}입니다.\")\n"
      ],
      "metadata": {
        "colab": {
          "base_uri": "https://localhost:8080/"
        },
        "id": "NO2WO-SJ7kyi",
        "outputId": "3e935d39-7e71-490a-8f4f-c500c03c377d"
      },
      "execution_count": 2,
      "outputs": [
        {
          "output_type": "stream",
          "name": "stdout",
          "text": [
            "퀴즈를 시작합니다!\n",
            "\n",
            "Q1. 1 + 1의 결과는?\n",
            "   1. 1\n",
            "   2. 2\n",
            "   3. 3\n",
            "   4. 4\n",
            "정답 번호를 입력하세요: 2\n",
            "정답입니다! 🎉\n",
            "\n",
            "Q2. 파이썬에서 딕셔너리는 무엇으로 감싸져 있나요?\n",
            "   1. []\n",
            "   2. ()\n",
            "   3. {}\n",
            "   4. <>\n",
            "정답 번호를 입력하세요: 3\n",
            "정답입니다! 🎉\n",
            "\n",
            "Q3. 태양계에서 가장 뜨거운 행성은?\n",
            "   1. 수성\n",
            "   2. 금성\n",
            "   3. 화성\n",
            "   4. 지구\n",
            "정답 번호를 입력하세요: 1\n",
            "틀렸습니다. 정답은 '금성'입니다.\n",
            "\n",
            "Q4. 다음 중 프로그래밍 언어가 아닌 것은?\n",
            "   1. Python\n",
            "   2. HTML\n",
            "   3. Java\n",
            "   4. C++\n",
            "정답 번호를 입력하세요: 4\n",
            "틀렸습니다. 정답은 'HTML'입니다.\n",
            "\n",
            "Q5. CPU는 무엇의 약자인가요?\n",
            "   1. Central Processing Unit\n",
            "   2. Central Program Unit\n",
            "   3. Control Processing Unit\n",
            "   4. Core Processing Unit\n",
            "정답 번호를 입력하세요: 2\n",
            "틀렸습니다. 정답은 'Central Processing Unit'입니다.\n",
            "\n",
            "퀴즈 종료! 당신의 점수는 2/5입니다.\n"
          ]
        }
      ]
    },
    {
      "cell_type": "code",
      "source": [
        "quiz = [\n",
        "    {\n",
        "        \"question\": \"1 + 1의 결과는?\",\n",
        "        \"choices\": [\"1\", \"2\", \"3\", \"4\"],\n",
        "        \"answer\": \"2\"\n",
        "    },\n",
        "    {\n",
        "        \"question\": \"파이썬에서 딕셔너리는 무엇으로 감싸져 있나요?\",\n",
        "        \"choices\": [\"[]\", \"()\", \"{}\", \"<>\"],\n",
        "        \"answer\": \"{}\"\n",
        "    },\n",
        "    {\n",
        "        \"question\": \"태양계에서 가장 뜨거운 행성은?\",\n",
        "        \"choices\": [\"수성\", \"금성\", \"화성\", \"지구\"],\n",
        "        \"answer\": \"금성\"\n",
        "    }\n",
        "]\n",
        "\n",
        "# 퀴즈 출력\n",
        "for i, q in enumerate(quiz, start=1):  # 외부 for문: 문제를 순회\n",
        "    print(f\"Q{i}. {q['question']}\")  # 질문 출력\n",
        "    for idx, choice in enumerate(q[\"choices\"], start=1):  # 내부 for문: 선택지 순회\n",
        "        print(f\"   {idx}. {choice}\")  # 보기 번호와 선택지 출력\n",
        "    print()  # 문제 간 공백 추가\n"
      ],
      "metadata": {
        "colab": {
          "base_uri": "https://localhost:8080/"
        },
        "id": "Gx03rAtu8YnI",
        "outputId": "be99e577-16ae-42e2-ff3c-92471820f73b"
      },
      "execution_count": 3,
      "outputs": [
        {
          "output_type": "stream",
          "name": "stdout",
          "text": [
            "Q1. 1 + 1의 결과는?\n",
            "   1. 1\n",
            "   2. 2\n",
            "   3. 3\n",
            "   4. 4\n",
            "\n",
            "Q2. 파이썬에서 딕셔너리는 무엇으로 감싸져 있나요?\n",
            "   1. []\n",
            "   2. ()\n",
            "   3. {}\n",
            "   4. <>\n",
            "\n",
            "Q3. 태양계에서 가장 뜨거운 행성은?\n",
            "   1. 수성\n",
            "   2. 금성\n",
            "   3. 화성\n",
            "   4. 지구\n",
            "\n"
          ]
        }
      ]
    },
    {
      "cell_type": "code",
      "source": [
        "quiz = [\n",
        "    {\n",
        "        \"question\": \"1 + 1의 결과는?\",\n",
        "        \"choices\": [\"1\", \"2\", \"3\", \"4\"],\n",
        "        \"answer\": \"2\"\n",
        "    },\n",
        "    {\n",
        "        \"question\": \"파이썬에서 딕셔너리는 무엇으로 감싸져 있나요?\",\n",
        "        \"choices\": [\"[]\", \"()\", \"{}\", \"<>\"],\n",
        "        \"answer\": \"{}\"\n",
        "    },\n",
        "    {\n",
        "        \"question\": \"태양계에서 가장 뜨거운 행성은?\",\n",
        "        \"choices\": [\"수성\", \"금성\", \"화성\", \"지구\"],\n",
        "        \"answer\": \"금성\"\n",
        "    }\n",
        "]\n",
        "\n",
        "# 퀴즈 출력\n",
        "for i, q in enumerate(quiz, start=1):  # 외부 for문: 문제 순회\n",
        "    print(f\"Q{i}. {q['question']}\")  # 질문 출력\n",
        "    for idx, choice in enumerate(q[\"choices\"], start=1):  # 내부 for문: 선택지 순회\n",
        "        print(f\"   {idx}. {choice}\")  # 보기 번호와 선택지 출력\n",
        "    print()  # 문제 간 공백 추가\n"
      ],
      "metadata": {
        "colab": {
          "base_uri": "https://localhost:8080/"
        },
        "id": "CFLyykI286e_",
        "outputId": "3c663518-69b2-4d2c-c62a-0b43d13d64ad"
      },
      "execution_count": 4,
      "outputs": [
        {
          "output_type": "stream",
          "name": "stdout",
          "text": [
            "Q1. 1 + 1의 결과는?\n",
            "   1. 1\n",
            "   2. 2\n",
            "   3. 3\n",
            "   4. 4\n",
            "\n",
            "Q2. 파이썬에서 딕셔너리는 무엇으로 감싸져 있나요?\n",
            "   1. []\n",
            "   2. ()\n",
            "   3. {}\n",
            "   4. <>\n",
            "\n",
            "Q3. 태양계에서 가장 뜨거운 행성은?\n",
            "   1. 수성\n",
            "   2. 금성\n",
            "   3. 화성\n",
            "   4. 지구\n",
            "\n"
          ]
        }
      ]
    },
    {
      "cell_type": "code",
      "source": [
        "quiz = [\n",
        "    {\n",
        "        \"question\": \"1 + 1의 결과는?\",\n",
        "        \"choices\": [\"1\", \"2\", \"3\", \"4\"],\n",
        "        \"answer\": \"2\"\n",
        "    },\n",
        "    {\n",
        "        \"question\": \"파이썬에서 딕셔너리는 무엇으로 감싸져 있나요?\",\n",
        "        \"choices\": [\"[]\", \"()\", \"{}\", \"<>\"],\n",
        "        \"answer\": \"{}\"\n",
        "    },\n",
        "    {\n",
        "        \"question\": \"태양계에서 가장 뜨거운 행성은?\",\n",
        "        \"choices\": [\"수성\", \"금성\", \"화성\", \"지구\"],\n",
        "        \"answer\": \"금성\"\n",
        "    }\n",
        "]\n",
        "\n",
        "for q in quiz:  # 문제 순회\n",
        "    print(q[\"question\"])  # 문제 출력\n",
        "    for idx, choice in enumerate(q[\"choices\"], start=1):  # 선택지 순회 및 보기 번호 1부터 시작\n",
        "        print(f\"{idx}. {choice}\")  # 보기 번호와 선택지 내용 출력\n",
        "    print()  # 문제 간 공백 추가\n"
      ],
      "metadata": {
        "colab": {
          "base_uri": "https://localhost:8080/"
        },
        "id": "DMo3IHgS9VHG",
        "outputId": "ec2b0254-c889-407d-daf8-02413270c271"
      },
      "execution_count": 5,
      "outputs": [
        {
          "output_type": "stream",
          "name": "stdout",
          "text": [
            "1 + 1의 결과는?\n",
            "1. 1\n",
            "2. 2\n",
            "3. 3\n",
            "4. 4\n",
            "\n",
            "파이썬에서 딕셔너리는 무엇으로 감싸져 있나요?\n",
            "1. []\n",
            "2. ()\n",
            "3. {}\n",
            "4. <>\n",
            "\n",
            "태양계에서 가장 뜨거운 행성은?\n",
            "1. 수성\n",
            "2. 금성\n",
            "3. 화성\n",
            "4. 지구\n",
            "\n"
          ]
        }
      ]
    },
    {
      "cell_type": "markdown",
      "source": [
        "조건문 if 파이썬 만들기~\n",
        "1번 기본 if문 사용"
      ],
      "metadata": {
        "id": "5fTj3vTi9_MS"
      }
    },
    {
      "cell_type": "code",
      "source": [
        "x = 10\n",
        "if x > 5:\n",
        "    print(\"x는 5보다 큽니다!\")  # 조건이 True이므로 실행됩니다.\n"
      ],
      "metadata": {
        "colab": {
          "base_uri": "https://localhost:8080/"
        },
        "id": "-cncnShe-E69",
        "outputId": "2be69d9b-5781-4ebd-8817-a90bf13221a9"
      },
      "execution_count": 6,
      "outputs": [
        {
          "output_type": "stream",
          "name": "stdout",
          "text": [
            "x는 5보다 큽니다!\n"
          ]
        }
      ]
    },
    {
      "cell_type": "markdown",
      "source": [
        "2번 참(True)과 거짓(False)의 동작"
      ],
      "metadata": {
        "id": "8EAczCrN_MVG"
      }
    },
    {
      "cell_type": "code",
      "source": [
        "values = [0, 1, \"\", \"Python\", [], [1, 2, 3], None]\n",
        "\n",
        "for value in values:\n",
        "    if value:\n",
        "        print(f\"{value}는 참(True)입니다.\")\n",
        "    else:\n",
        "        print(f\"{value}는 거짓(False)입니다.\")\n"
      ],
      "metadata": {
        "colab": {
          "base_uri": "https://localhost:8080/"
        },
        "id": "yEzmSweEC0EL",
        "outputId": "a1b0fda0-8981-43b8-d3b1-c89f823d75c6"
      },
      "execution_count": 7,
      "outputs": [
        {
          "output_type": "stream",
          "name": "stdout",
          "text": [
            "0는 거짓(False)입니다.\n",
            "1는 참(True)입니다.\n",
            "는 거짓(False)입니다.\n",
            "Python는 참(True)입니다.\n",
            "[]는 거짓(False)입니다.\n",
            "[1, 2, 3]는 참(True)입니다.\n",
            "None는 거짓(False)입니다.\n"
          ]
        }
      ]
    },
    {
      "cell_type": "markdown",
      "source": [
        "여러 조건을 사용하는 if-elif-else문"
      ],
      "metadata": {
        "id": "ZyWYqlIwC5MY"
      }
    },
    {
      "cell_type": "code",
      "source": [
        "age = 20\n",
        "\n",
        "if age < 13:\n",
        "    print(\"어린이입니다.\")\n",
        "elif 13 <= age < 20:\n",
        "    print(\"청소년입니다.\")\n",
        "else:\n",
        "    print(\"성인입니다.\")\n"
      ],
      "metadata": {
        "colab": {
          "base_uri": "https://localhost:8080/"
        },
        "id": "QS59VN9YDDkE",
        "outputId": "a3e96b3d-db10-408e-d732-615146b7d154"
      },
      "execution_count": 8,
      "outputs": [
        {
          "output_type": "stream",
          "name": "stdout",
          "text": [
            "성인입니다.\n"
          ]
        }
      ]
    },
    {
      "cell_type": "markdown",
      "source": [
        "중첩된 if문"
      ],
      "metadata": {
        "id": "naBdZ9C6DGep"
      }
    },
    {
      "cell_type": "code",
      "source": [
        "x = 15\n",
        "if x > 10:\n",
        "    if x % 2 == 0:\n",
        "        print(\"x는 10보다 크고 짝수입니다.\")\n",
        "    else:\n",
        "        print(\"x는 10보다 크고 홀수입니다.\")\n"
      ],
      "metadata": {
        "colab": {
          "base_uri": "https://localhost:8080/"
        },
        "id": "9W8gtTE0DJPG",
        "outputId": "54e13f2a-2be5-4bcf-8bdf-374ae50d979e"
      },
      "execution_count": 9,
      "outputs": [
        {
          "output_type": "stream",
          "name": "stdout",
          "text": [
            "x는 10보다 크고 홀수입니다.\n"
          ]
        }
      ]
    },
    {
      "cell_type": "markdown",
      "source": [
        "if문의 기본동작"
      ],
      "metadata": {
        "id": "56HDSA2dDSe1"
      }
    },
    {
      "cell_type": "code",
      "source": [
        "x = 10\n",
        "\n",
        "if x > 5:  # 조건식 x > 5가 True이므로 실행\n",
        "    print(\"x는 5보다 큽니다.\")\n",
        "\n",
        "if x == 10:  # 조건식 x == 10이 True이므로 실행\n",
        "    print(\"x는 10입니다.\")\n",
        "\n",
        "if x < 5:  # 조건식 x < 5가 False이므로 실행되지 않음\n",
        "    print(\"x는 5보다 작습니다.\")\n"
      ],
      "metadata": {
        "colab": {
          "base_uri": "https://localhost:8080/"
        },
        "id": "DKT4DRxyDtvs",
        "outputId": "8ced4a7a-9ef7-4163-e7ff-242ca38d2fcb"
      },
      "execution_count": 10,
      "outputs": [
        {
          "output_type": "stream",
          "name": "stdout",
          "text": [
            "x는 5보다 큽니다.\n",
            "x는 10입니다.\n"
          ]
        }
      ]
    },
    {
      "cell_type": "markdown",
      "source": [
        "else로 기본 동작 설정 만들기!!!"
      ],
      "metadata": {
        "id": "RlEVPz7wEz6A"
      }
    },
    {
      "cell_type": "code",
      "source": [
        "user_input = input(\"당신의 나이를 입력하세요: \")\n",
        "\n",
        "# 입력받은 값이 숫자라면\n",
        "if user_input.isdigit():\n",
        "    age = int(user_input)\n",
        "    if age >= 17:\n",
        "        print(\"미성년자입니다.\")\n",
        "    else:\n",
        "        print(\"미성년자입니다.\")\n",
        "else:\n",
        "    print(\"잘못된 입력입니다. 숫자를 입력해주세요.\")  # 입력이 숫자가 아니면 이 코드 실행\n"
      ],
      "metadata": {
        "colab": {
          "base_uri": "https://localhost:8080/"
        },
        "id": "v2aWa-aRFRn3",
        "outputId": "ed74649e-404b-42e4-e410-dded69c94daf"
      },
      "execution_count": 14,
      "outputs": [
        {
          "output_type": "stream",
          "name": "stdout",
          "text": [
            "당신의 나이를 입력하세요: 17\n",
            "미성년자입니다.\n"
          ]
        }
      ]
    },
    {
      "cell_type": "markdown",
      "source": [
        "### 여러 조건을 처리하는 `elif`\n",
        "\n",
        "`elif`는 **다중 조건**을 처리할 때 유용합니다. `elif`를 사용하면 하나의 조건이 거짓일 때, 다음 조건을 평가할 수 있습니다. 여러 `elif`를 사용할 수 있으며, **조건이 참인 첫 번째 블록**만 실행됩니다."
      ],
      "metadata": {
        "id": "AdMUKvJAFhnc"
      }
    },
    {
      "cell_type": "code",
      "source": [
        "temperature = 25\n",
        "\n",
        "if temperature >= 30:\n",
        "    print(\"더운 날씨입니다.\")\n",
        "elif temperature >= 20:\n",
        "    print(\"따뜻한 날씨입니다.\")\n",
        "elif temperature >= 10:\n",
        "    print(\"시원한 날씨입니다.\")\n",
        "else:\n",
        "    print(\"추운 날씨입니다.\")\n"
      ],
      "metadata": {
        "colab": {
          "base_uri": "https://localhost:8080/"
        },
        "id": "cV7528G3FwQS",
        "outputId": "115fa99f-6a5d-4411-8811-3b53a42cc18e"
      },
      "execution_count": 15,
      "outputs": [
        {
          "output_type": "stream",
          "name": "stdout",
          "text": [
            "따뜻한 날씨입니다.\n"
          ]
        }
      ]
    },
    {
      "cell_type": "markdown",
      "source": [
        "### 중첩 `if문`\n",
        "\n",
        "`if문` 안에 또 다른 `if문`을 넣는 **중첩 구조**를 사용할 수 있습니다. 중첩된 조건을 다루거나 복잡한 판단을 할 때 유용합니다."
      ],
      "metadata": {
        "id": "ZzZt7mYGF-hq"
      }
    },
    {
      "cell_type": "code",
      "source": [
        "age = 25\n",
        "has_ticket = True\n",
        "\n",
        "if age >= 18:  # 첫 번째 조건: 나이가 18세 이상인 경우\n",
        "    if has_ticket:  # 두 번째 조건: 티켓을 가지고 있는 경우\n",
        "        print(\"영화에 입장할 수 있습니다.\")\n",
        "    else:\n",
        "        print(\"티켓이 없습니다. 입장할 수 없습니다.\")\n",
        "else:\n",
        "    print(\"나이가 18세 미만이라 입장할 수 없습니다.\")\n"
      ],
      "metadata": {
        "colab": {
          "base_uri": "https://localhost:8080/"
        },
        "id": "MYkA-4R9F_cX",
        "outputId": "7e7f4fe5-1fa6-462a-afb6-3a426d3ee2d3"
      },
      "execution_count": 16,
      "outputs": [
        {
          "output_type": "stream",
          "name": "stdout",
          "text": [
            "영화에 입장할 수 있습니다.\n"
          ]
        }
      ]
    },
    {
      "cell_type": "markdown",
      "source": [
        " 나이에 따라 구분하고 중첩된 조건으로 더 세부적인 분류"
      ],
      "metadata": {
        "id": "q1xHLHobGTew"
      }
    },
    {
      "cell_type": "code",
      "source": [
        "age = 15\n",
        "is_student = True\n",
        "\n",
        "if age < 18:\n",
        "    if is_student:\n",
        "        print(\"학생이며 미성년자입니다.\")\n",
        "    else:\n",
        "        print(\"미성년자입니다.\")\n",
        "else:\n",
        "    if is_student:\n",
        "        print(\"성인 학생입니다.\")\n",
        "    else:\n",
        "        print(\"성인입니다.\")\n"
      ],
      "metadata": {
        "colab": {
          "base_uri": "https://localhost:8080/"
        },
        "id": "Z1J1ER5RGUXE",
        "outputId": "7c41f128-4ac5-49f8-c9ee-d50897d4c865"
      },
      "execution_count": 17,
      "outputs": [
        {
          "output_type": "stream",
          "name": "stdout",
          "text": [
            "학생이며 미성년자입니다.\n"
          ]
        }
      ]
    },
    {
      "cell_type": "markdown",
      "source": [
        " 논리 연산자와 함께 쓰이는 if문\n",
        "\n",
        "논리 연산자 and, or, not은 여러 조건을 한 번에 평가하는 데 유용합니다.\n",
        "\n",
        "- **and**: 두 조건이 **모두 참**이어야 참\n",
        "- **or**: 두 조건 중 **하나라도** 참이면 참\n",
        "- **not**: 조건의 결과를 **반대**로 바꿈"
      ],
      "metadata": {
        "id": "KYtKQZv-HFz0"
      }
    },
    {
      "cell_type": "markdown",
      "source": [
        " and 연산자\n",
        "and 연산자는 두 조건이 모두 참일 때만 참이 됩니다. 즉, 두 조건을 모두 만족할 때만 True를 반환하고, 그렇지 않으면 False가 됩니다"
      ],
      "metadata": {
        "id": "WsJw-RnsHRai"
      }
    },
    {
      "cell_type": "code",
      "source": [
        "age = 25\n",
        "has_ticket = True\n",
        "\n",
        "if age >= 18 and has_ticket:\n",
        "    print(\"영화에 입장할 수 있습니다.\")\n",
        "else:\n",
        "    print(\"영화에 입장할 수 없습니다.\")\n"
      ],
      "metadata": {
        "colab": {
          "base_uri": "https://localhost:8080/"
        },
        "id": "DjVHI3MQHXn3",
        "outputId": "7d2ebabc-701d-4a14-ba52-1486a85d4d0a"
      },
      "execution_count": 18,
      "outputs": [
        {
          "output_type": "stream",
          "name": "stdout",
          "text": [
            "영화에 입장할 수 있습니다.\n"
          ]
        }
      ]
    },
    {
      "cell_type": "markdown",
      "source": [
        "or 연산자는 두 조건 중 하나라도 참이면 참이 됩니다. 즉, 두 조건 중 하나라도 만족하면 True를 반환합니다."
      ],
      "metadata": {
        "id": "9Wb7LICEHoei"
      }
    },
    {
      "cell_type": "code",
      "source": [
        "is_sunny = True\n",
        "has_sunglasses = False\n",
        "\n",
        "if is_sunny or has_sunglasses:\n",
        "    print(\"햇빛을 피할 준비가 되었습니다.\")\n",
        "else:\n",
        "    print(\"햇빛을 피할 준비가 필요합니다.\")\n"
      ],
      "metadata": {
        "colab": {
          "base_uri": "https://localhost:8080/"
        },
        "id": "QLja2EntHrsQ",
        "outputId": "2114768a-cb3a-4d2f-d415-d7fb0974fa08"
      },
      "execution_count": 19,
      "outputs": [
        {
          "output_type": "stream",
          "name": "stdout",
          "text": [
            "햇빛을 피할 준비가 되었습니다.\n"
          ]
        }
      ]
    },
    {
      "cell_type": "markdown",
      "source": [
        "not 연산자는 조건을 반전시켜서 사용합니다. 조건이 참이면 거짓으로, 거짓이면 참으로 바꿉니다."
      ],
      "metadata": {
        "id": "iDaILWkBHzD2"
      }
    },
    {
      "cell_type": "code",
      "source": [
        "is_raining = False\n",
        "\n",
        "if not is_raining:\n",
        "    print(\"비가 오지 않아요. 밖에 나갈 수 있어요.\")\n",
        "else:\n",
        "    print(\"비가 옵니다. 우산을 챙기세요.\")\n"
      ],
      "metadata": {
        "colab": {
          "base_uri": "https://localhost:8080/"
        },
        "id": "gj7rZ0xZH14y",
        "outputId": "c6d6f4bc-4879-450f-e102-c40c2359a263"
      },
      "execution_count": 20,
      "outputs": [
        {
          "output_type": "stream",
          "name": "stdout",
          "text": [
            "비가 오지 않아요. 밖에 나갈 수 있어요.\n"
          ]
        }
      ]
    },
    {
      "cell_type": "markdown",
      "source": [
        "not을 사용하여 조건을 반전시키기"
      ],
      "metadata": {
        "id": "zE2Bay7QIbWh"
      }
    },
    {
      "cell_type": "code",
      "source": [
        "user_is_admin = False\n",
        "has_permission = True\n",
        "\n",
        "if not user_is_admin and has_permission:\n",
        "    print(\"권한이 있지만 관리자 권한이 없습니다.\")\n",
        "else:\n",
        "    print(\"관리자 권한이거나 권한이 없습니다.\")\n"
      ],
      "metadata": {
        "colab": {
          "base_uri": "https://localhost:8080/"
        },
        "id": "8Vx64UrlIb2N",
        "outputId": "9499c3a6-ccad-43a0-f5c0-145793da0656"
      },
      "execution_count": 21,
      "outputs": [
        {
          "output_type": "stream",
          "name": "stdout",
          "text": [
            "권한이 있지만 관리자 권한이 없습니다.\n"
          ]
        }
      ]
    },
    {
      "cell_type": "markdown",
      "source": [
        "\n",
        "복잡한 조건을 처리하기 위한 if문의 유연성\n",
        "if문은 숫자 비교뿐만 아니라 문자열, 리스트, 딕셔너리 등 다양한 데이터 타입과 함께 사용하여 복잡한 조건을 처리할 수 있는 유연성을 제공합니다. 이를 통해 보다 세밀한 조건 평가와 복잡한 로직을 구현할 수 있습니다.\n",
        "\n",
        "1. 문자열 비교\n",
        "if문에서 문자열을 비교할 때는 문자열의 값을 비교하여 조건을 처리할 수 있습니다. 문자열은 기본적으로 사전식 순서로 비교됩니다."
      ],
      "metadata": {
        "id": "dP_XkK67JlaM"
      }
    },
    {
      "cell_type": "code",
      "source": [
        "password = \"secure123\"\n",
        "\n",
        "if password == \"secure123\":\n",
        "    print(\"비밀번호가 맞습니다.\")\n",
        "else:\n",
        "    print(\"비밀번호가 틀렸습니다.\")\n"
      ],
      "metadata": {
        "colab": {
          "base_uri": "https://localhost:8080/"
        },
        "id": "bgc7jn7OJl-9",
        "outputId": "6e61cad8-c805-43c4-a045-e634177fd485"
      },
      "execution_count": 22,
      "outputs": [
        {
          "output_type": "stream",
          "name": "stdout",
          "text": [
            "비밀번호가 맞습니다.\n"
          ]
        }
      ]
    },
    {
      "cell_type": "markdown",
      "source": [
        "리스트에서 특정 값이 있는지 확인하려면 in 연산자를 사용합니다. 이는 Python에서 간단하면서도 강력한 방법입니다."
      ],
      "metadata": {
        "id": "U0KFGTVtKA0B"
      }
    },
    {
      "cell_type": "code",
      "source": [
        "fruits = [\"apple\", \"pineapple\", \"cherry\", \"date\"]\n",
        "\n",
        "# 특정 값 확인\n",
        "if \"banana\" in fruits:\n",
        "    print(\"바나나가 리스트에 있습니다.\")\n",
        "else:\n",
        "    print(\"바나나가 리스트에 없습니다.\")\n"
      ],
      "metadata": {
        "colab": {
          "base_uri": "https://localhost:8080/"
        },
        "id": "neVwN2EeKBna",
        "outputId": "2acfc2ea-191c-4587-a63d-7272a8a2421e"
      },
      "execution_count": 23,
      "outputs": [
        {
          "output_type": "stream",
          "name": "stdout",
          "text": [
            "바나나가 리스트에 없습니다.\n"
          ]
        }
      ]
    },
    {
      "cell_type": "code",
      "source": [
        "fruits = [\"pineapple\", \"banana\", \"cherry\", \"date\"]\n",
        "check_fruits = [\"banana\", \"grape\", \"date\"]\n",
        "\n",
        "# 여러 값 확인\n",
        "for fruit in check_fruits:\n",
        "    if fruit in fruits:\n",
        "        print(f\"{fruit}가 리스트에 있습니다.\")\n",
        "    else:\n",
        "        print(f\"{fruit}가 리스트에 없습니다.\")\n"
      ],
      "metadata": {
        "colab": {
          "base_uri": "https://localhost:8080/"
        },
        "id": "Q_mUCv6pKvzm",
        "outputId": "a7820a28-2dbb-406a-e0b2-42e5e68220af"
      },
      "execution_count": 27,
      "outputs": [
        {
          "output_type": "stream",
          "name": "stdout",
          "text": [
            "banana가 리스트에 있습니다.\n",
            "grape가 리스트에 없습니다.\n",
            "date가 리스트에 있습니다.\n"
          ]
        }
      ]
    },
    {
      "cell_type": "code",
      "source": [
        "def check_value_in_list(value, lst):\n",
        "    if value in lst:\n",
        "        return f\"{value}가 리스트에 있습니다.\"\n",
        "    else:\n",
        "        return f\"{value}가 리스트에 없습니다.\"\n",
        "\n",
        "# 사용 예시\n",
        "fruits = [\"pineapple\", \"banana\", \"cherry\", \"date\"]\n",
        "result = check_value_in_list(\"cherry\", fruits)\n",
        "print(result)\n"
      ],
      "metadata": {
        "colab": {
          "base_uri": "https://localhost:8080/"
        },
        "id": "TEVc-yzuK0YJ",
        "outputId": "9e0cd395-e80f-41ce-afad-d161acaeb64f"
      },
      "execution_count": 26,
      "outputs": [
        {
          "output_type": "stream",
          "name": "stdout",
          "text": [
            "cherry가 리스트에 있습니다.\n"
          ]
        }
      ]
    },
    {
      "cell_type": "markdown",
      "source": [
        "### `if문`과 불린(Boolean) 값\n",
        "\n",
        "`if`문은 불린 값인 **참(True)** 또는 **거짓(False)**에 따라 동작합니다. Python에서 조건이 참인 경우는 아래와 같습니다:"
      ],
      "metadata": {
        "id": "UIpqY4BsLhpx"
      }
    },
    {
      "cell_type": "code",
      "source": [
        "# 숫자 확인\n",
        "if 0:\n",
        "    print(\"0은 참입니다.\")\n",
        "else:\n",
        "    print(\"0은 거짓입니다.\")  # 출력됨\n",
        "\n",
        "if -10:\n",
        "    print(\"-10은 참입니다.\")  # 출력됨\n",
        "\n",
        "# 빈 값 확인\n",
        "if []:\n",
        "    print(\"빈 리스트는 참입니다.\")\n",
        "else:\n",
        "    print(\"빈 리스트는 거짓입니다.\")  # 출력됨\n",
        "\n",
        "if \"Hello\":\n",
        "    print(\"문자열 'Hello'는 참입니다.\")  # 출력됨\n"
      ],
      "metadata": {
        "id": "ncrFq9MYLiaF"
      },
      "execution_count": null,
      "outputs": []
    },
    {
      "cell_type": "code",
      "source": [
        "# 빈 딕셔너리 확인\n",
        "data = {}\n",
        "if data:\n",
        "    print(\"딕셔너리에 값이 있습니다.\")\n",
        "else:\n",
        "    print(\"딕셔너리가 비어 있습니다.\")  # 출력됨\n",
        "\n",
        "# None 확인\n",
        "value = None\n",
        "if value:\n",
        "    print(\"값이 있습니다.\")\n",
        "else:\n",
        "    print(\"값이 없습니다.\")  # 출력됨\n"
      ],
      "metadata": {
        "id": "HtZsWmaCLk2r"
      },
      "execution_count": null,
      "outputs": []
    },
    {
      "cell_type": "code",
      "source": [
        "is_logged_in = True\n",
        "\n",
        "if is_logged_in:\n",
        "    print(\"사용자가 로그인했습니다.\")  # 출력됨\n",
        "else:\n",
        "    print(\"사용자가 로그인하지 않았습니다.\")\n"
      ],
      "metadata": {
        "id": "uccxZPjXLnJR"
      },
      "execution_count": null,
      "outputs": []
    },
    {
      "cell_type": "code",
      "source": [
        "# 숫자가 0인지 확인\n",
        "num = 10\n",
        "if num:  # num != 0과 동일\n",
        "    print(\"숫자가 0이 아닙니다.\")  # 출력됨\n",
        "\n",
        "# 리스트가 비었는지 확인\n",
        "items = []\n",
        "if not items:  # items == []과 동일\n",
        "    print(\"리스트가 비어 있습니다.\")  # 출력됨\n"
      ],
      "metadata": {
        "id": "ecJ51EdcMRsJ"
      },
      "execution_count": null,
      "outputs": []
    },
    {
      "cell_type": "markdown",
      "source": [
        "마지막 문제 합치기"
      ],
      "metadata": {
        "id": "bAmmMb9LNKtw"
      }
    },
    {
      "cell_type": "code",
      "source": [
        "quiz = [\n",
        "    {\n",
        "        \"question\": \"2의 0승은?\",\n",
        "        \"choices\": [\"1\", \"0\", \"2\", \"무한\"],\n",
        "        \"answer\": \"1\"\n",
        "    },\n",
        "    {\n",
        "        \"question\": \"파이썬에서 리스트는 무엇으로 시작하나요?\",\n",
        "        \"choices\": [\"()\", \"[]\", \"{}\", \"||\"],\n",
        "        \"answer\": \"[]\"\n",
        "    },\n",
        "    {\n",
        "        \"question\": \"가장 큰 행성은?\",\n",
        "        \"choices\": [\"화성\", \"지구\", \"목성\", \"금성\"],\n",
        "        \"answer\": \"목성\"\n",
        "    }\n",
        "]\n",
        "\n",
        "# 점수 초기화\n",
        "score = 0\n",
        "\n",
        "print(\"퀴즈를 시작합니다!\\n\")\n",
        "\n",
        "# 퀴즈 반복문\n",
        "for q in quiz:\n",
        "    print(q[\"question\"])  # 문제 출력\n",
        "    # 선택지 출력\n",
        "    for idx, choice in enumerate(q[\"choices\"], start=1):\n",
        "        print(f\"{idx}. {choice}\")\n",
        "\n",
        "    # 사용자 입력 받기\n",
        "    user_answer = input(\"정답 번호를 입력하세요: \")\n",
        "\n",
        "    # 정답의 인덱스를 구하고 1을 더해 보기 번호와 맞춤\n",
        "    correct_answer = q[\"choices\"].index(q[\"answer\"]) + 1\n",
        "\n",
        "    # 정답 확인\n",
        "    if int(user_answer) == correct_answer:\n",
        "        print(\"정답입니다!\\n\")\n",
        "        score += 1\n",
        "    else:\n",
        "        print(f\"틀렸습니다. 정답은 {correct_answer}. {q['answer']}\\n\")\n",
        "\n",
        "# 최종 결과 출력\n",
        "print(f\"퀴즈가 끝났습니다. 당신의 점수는 {score}/{len(quiz)} 입니다!\")\n"
      ],
      "metadata": {
        "colab": {
          "base_uri": "https://localhost:8080/"
        },
        "id": "TaoknUIJNNr_",
        "outputId": "a5665e99-ee83-4220-d2b8-6848a8d6237e"
      },
      "execution_count": 28,
      "outputs": [
        {
          "output_type": "stream",
          "name": "stdout",
          "text": [
            "퀴즈를 시작합니다!\n",
            "\n",
            "2의 0승은?\n",
            "1. 1\n",
            "2. 0\n",
            "3. 2\n",
            "4. 무한\n",
            "정답 번호를 입력하세요: 2\n",
            "틀렸습니다. 정답은 1. 1\n",
            "\n",
            "파이썬에서 리스트는 무엇으로 시작하나요?\n",
            "1. ()\n",
            "2. []\n",
            "3. {}\n",
            "4. ||\n",
            "정답 번호를 입력하세요: 2\n",
            "정답입니다!\n",
            "\n",
            "가장 큰 행성은?\n",
            "1. 화성\n",
            "2. 지구\n",
            "3. 목성\n",
            "4. 금성\n",
            "정답 번호를 입력하세요: 3\n",
            "정답입니다!\n",
            "\n",
            "퀴즈가 끝났습니다. 당신의 점수는 2/3 입니다!\n"
          ]
        }
      ]
    },
    {
      "cell_type": "code",
      "source": [
        "# 퀴즈 데이터\n",
        "quiz = [\n",
        "    {\n",
        "        \"question\": \"2의 0승은?\",\n",
        "        \"choices\": [\"1\", \"0\", \"2\", \"무한\"],\n",
        "        \"answer\": \"1\"\n",
        "    },\n",
        "    {\n",
        "        \"question\": \"파이썬에서 리스트는 무엇으로 시작하나요?\",\n",
        "        \"choices\": [\"()\", \"[]\", \"{}\", \"||\"],\n",
        "        \"answer\": \"[]\"\n",
        "    },\n",
        "    {\n",
        "        \"question\": \"가장 큰 행성은?\",\n",
        "        \"choices\": [\"화성\", \"지구\", \"목성\", \"금성\"],\n",
        "        \"answer\": \"목성\"\n",
        "    }\n",
        "]\n",
        "\n",
        "# 점수 초기화\n",
        "score = 0\n",
        "\n",
        "print(\"퀴즈를 시작합니다!\\n\")\n",
        "\n",
        "# 퀴즈 반복문\n",
        "for q in quiz:\n",
        "    print(q[\"question\"])  # 문제 출력\n",
        "    # 선택지 출력\n",
        "    for idx, choice in enumerate(q[\"choices\"], start=1):\n",
        "        print(f\"{idx}. {choice}\")\n",
        "\n",
        "    # 사용자 입력 받기\n",
        "    user_answer = input(\"정답 번호를 입력하세요: \")\n",
        "\n",
        "    # 정답의 인덱스를 구하고 1을 더해 보기 번호와 맞춤\n",
        "    correct_answer = q[\"choices\"].index(q[\"answer\"]) + 1\n",
        "\n",
        "    # 정답 확인\n",
        "    if int(user_answer) == correct_answer:\n",
        "        print(\"정답입니다!\\n\")\n",
        "        score += 1\n",
        "    else:\n",
        "        print(f\"틀렸습니다. 정답은 {correct_answer}. {q['answer']}\\n\")\n",
        "\n",
        "# 최종 결과 출력\n",
        "print(f\"퀴즈가 끝났습니다. 당신의 점수는 {score}/{len(quiz)} 입니다!\\n\")\n",
        "\n",
        "# 추가적으로 if문 활용 예제\n",
        "print(\"다양한 if문 활용 예제\\n\")\n",
        "\n",
        "# 1. 숫자 비교\n",
        "number = int(input(\"숫자를 입력하세요: \"))\n",
        "if number > 10:\n",
        "    print(\"입력한 숫자가 10보다 큽니다.\")\n",
        "elif number == 10:\n",
        "    print(\"입력한 숫자가 10과 같습니다.\")\n",
        "else:\n",
        "    print(\"입력한 숫자가 10보다 작습니다.\")\n",
        "\n",
        "# 2. 리스트 내 값 확인\n",
        "shopping_list = [\"사과\", \"바나나\", \"딸기\", \"포도\"]\n",
        "item = input(\"쇼핑 리스트에서 검색할 항목을 입력하세요: \")\n",
        "if item in shopping_list:\n",
        "    print(f\"{item}은(는) 쇼핑 리스트에 있습니다.\")\n",
        "else:\n",
        "    print(f\"{item}은(는) 쇼핑 리스트에 없습니다.\")\n",
        "\n",
        "# 3. 논리 연산자 사용\n",
        "age = int(input(\"당신의 나이를 입력하세요: \"))\n",
        "if age >= 18 and age < 60:\n",
        "    print(\"성인입니다.\")\n",
        "elif age < 18:\n",
        "    print(\"미성년자입니다.\")\n",
        "else:\n",
        "    print(\"노년층입니다.\")\n",
        "\n",
        "# 4. 문자열 처리\n",
        "username = input(\"사용자 이름을 입력하세요: \")\n",
        "if username.strip():  # 빈 문자열 확인\n",
        "    print(f\"안녕하세요, {username}님!\")\n",
        "else:\n",
        "    print(\"이름을 입력하지 않았습니다.\")\n",
        "\n",
        "# 5. 중첩 if문\n",
        "weather = input(\"오늘의 날씨를 입력하세요 (맑음/비/눈): \")\n",
        "if weather == \"맑음\":\n",
        "    print(\"날씨가 좋네요! 산책을 추천합니다.\")\n",
        "else:\n",
        "    time = int(input(\"현재 시간을 입력하세요 (0~23): \"))\n",
        "    if time < 12:\n",
        "        print(\"아침에 날씨가 안 좋아요. 우산을 챙기세요!\")\n",
        "    else:\n",
        "        print(\"저녁에 날씨가 안 좋아요. 집에서 쉬는 게 좋겠어요.\")\n"
      ],
      "metadata": {
        "colab": {
          "base_uri": "https://localhost:8080/"
        },
        "id": "7vxUZlJEN8Az",
        "outputId": "30855aa0-3258-4241-e52d-6af0ef162066"
      },
      "execution_count": 30,
      "outputs": [
        {
          "output_type": "stream",
          "name": "stdout",
          "text": [
            "퀴즈를 시작합니다!\n",
            "\n",
            "2의 0승은?\n",
            "1. 1\n",
            "2. 0\n",
            "3. 2\n",
            "4. 무한\n",
            "정답 번호를 입력하세요: 1\n",
            "정답입니다!\n",
            "\n",
            "파이썬에서 리스트는 무엇으로 시작하나요?\n",
            "1. ()\n",
            "2. []\n",
            "3. {}\n",
            "4. ||\n",
            "정답 번호를 입력하세요: 2\n",
            "정답입니다!\n",
            "\n",
            "가장 큰 행성은?\n",
            "1. 화성\n",
            "2. 지구\n",
            "3. 목성\n",
            "4. 금성\n",
            "정답 번호를 입력하세요: 3\n",
            "정답입니다!\n",
            "\n",
            "퀴즈가 끝났습니다. 당신의 점수는 3/3 입니다!\n",
            "\n",
            "다양한 if문 활용 예제\n",
            "\n",
            "숫자를 입력하세요: 7\n",
            "입력한 숫자가 10보다 작습니다.\n",
            "쇼핑 리스트에서 검색할 항목을 입력하세요: cherry\n",
            "cherry은(는) 쇼핑 리스트에 없습니다.\n",
            "당신의 나이를 입력하세요: 17\n",
            "미성년자입니다.\n",
            "사용자 이름을 입력하세요: lion\n",
            "안녕하세요, lion님!\n",
            "오늘의 날씨를 입력하세요 (맑음/비/눈): 비\n",
            "현재 시간을 입력하세요 (0~23): 4\n",
            "아침에 날씨가 안 좋아요. 우산을 챙기세요!\n"
          ]
        }
      ]
    }
  ]
}